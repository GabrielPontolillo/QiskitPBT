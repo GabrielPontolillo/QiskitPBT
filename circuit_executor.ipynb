{
 "cells": [
  {
   "cell_type": "code",
   "id": "initial_id",
   "metadata": {
    "collapsed": true,
    "ExecuteTime": {
     "end_time": "2024-08-06T19:21:32.010660Z",
     "start_time": "2024-08-06T19:21:32.006925Z"
    }
   },
   "source": [
    "import qiskit\n",
    "from qiskit import qasm2\n",
    "import importlib.util\n",
    "import sys\n",
    "\n",
    "def import_function(module_str, path):    \n",
    "    # Create a module specification\n",
    "    spec = importlib.util.spec_from_file_location(module_str, path)\n",
    "    \n",
    "    # Create a module based on the specification\n",
    "    module = importlib.util.module_from_spec(spec)\n",
    "    \n",
    "    # Add the module to sys.modules\n",
    "    sys.modules[module_str] = module\n",
    "    \n",
    "    # Execute the module\n",
    "    spec.loader.exec_module(module)\n",
    "    \n",
    "    # Return the specific function from the module\n",
    "    return module.quantum_teleportation"
   ],
   "outputs": [],
   "execution_count": 8
  },
  {
   "metadata": {
    "ExecuteTime": {
     "end_time": "2024-08-06T19:21:32.212670Z",
     "start_time": "2024-08-06T19:21:32.191312Z"
    }
   },
   "cell_type": "code",
   "source": [
    "for i in range(0, 10):\n",
    "    # print(f\"C:\\\\Users\\\\gabri\\\\Desktop\\\\PycharmProjects\\\\QiskitPBT\\\\case_studies\\\\quantum_teleportation\\\\mutants\\\\quantum_teleportation_m{i}.py\")\n",
    "    quantum_teleportation = import_function(f\"quantum_teleportation_m{i}\", f\"QiskitPBT\\\\case_studies\\\\quantum_teleportation\\\\mutants\\\\quantum_teleportation_m{i}.py\")\n",
    "    circ = quantum_teleportation()\n",
    "    qasm2.dump(circ, f\"QiskitPBT\\\\case_studies\\\\quantum_teleportation\\\\mutants\\\\qasm\\\\quantum_teleportation_m{i}.qasm\")\n",
    "    print(circ)"
   ],
   "id": "a758dffd3b857ce3",
   "outputs": [
    {
     "name": "stdout",
     "output_type": "stream",
     "text": [
      "                    ┌───┐┌──────┐\n",
      "q_0: ────────────■──┤ H ├┤0     ├\n",
      "     ┌───┐     ┌─┴─┐└───┘│      │\n",
      "q_1: ┤ H ├──■──┤ X ├──■──┤  Dcx ├\n",
      "     └───┘┌─┴─┐└───┘┌─┴─┐│      │\n",
      "q_2: ─────┤ X ├─────┤ X ├┤1     ├\n",
      "          └───┘     └───┘└──────┘\n",
      "                    ┌───┐     \n",
      "q_0: ────────────■──┤ H ├──■──\n",
      "     ┌───┐     ┌─┴─┐└───┘  │  \n",
      "q_1: ┤ H ├──■──┤ X ├──■────┼──\n",
      "     └───┘┌─┴─┐└───┘┌─┴─┐┌─┴─┐\n",
      "q_2: ─────┤ X ├─────┤ X ├┤ X ├\n",
      "          └───┘     └───┘└───┘\n",
      "                     ┌───┐   \n",
      "q_0: ─────────────■──┤ H ├─■─\n",
      "     ┌────┐     ┌─┴─┐└───┘ │ \n",
      "q_1: ┤ √X ├──■──┤ X ├──■───┼─\n",
      "     └────┘┌─┴─┐└───┘┌─┴─┐ │ \n",
      "q_2: ──────┤ X ├─────┤ X ├─■─\n",
      "           └───┘     └───┘   \n",
      "                       ┌───┐   \n",
      "q_0: ───────────────■──┤ H ├─■─\n",
      "     ┌───┐        ┌─┴─┐└───┘ │ \n",
      "q_1: ┤ H ├──■───■─┤ X ├──■───┼─\n",
      "     └───┘┌─┴─┐ │ └───┘┌─┴─┐ │ \n",
      "q_2: ─────┤ X ├─■──────┤ X ├─■─\n",
      "          └───┘        └───┘   \n",
      "                    ┌───┐      \n",
      "q_0: ────────────■──┤ H ├─■──■─\n",
      "     ┌───┐     ┌─┴─┐└───┘ │  │ \n",
      "q_1: ┤ H ├──■──┤ X ├──■───┼──┼─\n",
      "     └───┘┌─┴─┐└───┘┌─┴─┐ │  │ \n",
      "q_2: ─────┤ X ├─────┤ X ├─■──■─\n",
      "          └───┘     └───┘      \n",
      "                   ┌───┐   \n",
      "q_0: ───────────■──┤ H ├─■─\n",
      "       ┌───┐  ┌─┴─┐└───┘ │ \n",
      "q_1: ──┤ H ├──┤ X ├──■───┼─\n",
      "     ┌─┴───┴─┐└───┘┌─┴─┐ │ \n",
      "q_2: ┤ Ry(1) ├─────┤ X ├─■─\n",
      "     └───────┘     └───┘   \n",
      "                     ┌───┐   \n",
      "q_0: ─────────────■──┤ H ├─■─\n",
      "     ┌───┐      ┌─┴─┐└───┘ │ \n",
      "q_1: ┤ H ├──■───┤ X ├──■───┼─\n",
      "     └───┘┌─┴──┐└───┘┌─┴─┐ │ \n",
      "q_2: ─────┤ Sx ├─────┤ X ├─■─\n",
      "          └────┘     └───┘   \n",
      "                    ┌───┐┌────────┐\n",
      "q_0: ────────────■──┤ H ├┤0       ├\n",
      "     ┌───┐     ┌─┴─┐└───┘│        │\n",
      "q_1: ┤ H ├──■──┤ X ├──■──┤  Iswap ├\n",
      "     └───┘┌─┴─┐└───┘┌─┴─┐│        │\n",
      "q_2: ─────┤ X ├─────┤ X ├┤1       ├\n",
      "          └───┘     └───┘└────────┘\n",
      "                          ┌───┐   \n",
      "q_0: ──────────────────■──┤ H ├─■─\n",
      "     ┌───┐┌────┐     ┌─┴─┐└───┘ │ \n",
      "q_1: ┤ H ├┤ √X ├──■──┤ X ├──■───┼─\n",
      "     └───┘└────┘┌─┴─┐└───┘┌─┴─┐ │ \n",
      "q_2: ───────────┤ X ├─────┤ X ├─■─\n",
      "                └───┘     └───┘   \n",
      "               ┌──────┐┌───┐   \n",
      "q_0: ──────────┤0     ├┤ H ├─■─\n",
      "     ┌───┐     │  Dcx │└───┘ │ \n",
      "q_1: ┤ H ├──■──┤1     ├──■───┼─\n",
      "     └───┘┌─┴─┐└──────┘┌─┴─┐ │ \n",
      "q_2: ─────┤ X ├────────┤ X ├─■─\n",
      "          └───┘        └───┘   \n"
     ]
    }
   ],
   "execution_count": 9
  },
  {
   "metadata": {
    "ExecuteTime": {
     "end_time": "2024-08-06T19:23:46.597749Z",
     "start_time": "2024-08-06T19:23:46.592473Z"
    }
   },
   "cell_type": "code",
   "source": [
    "quantum_teleportation = import_function(f\"quantum_teleportation\", f\"QiskitPBT\\\\case_studies\\\\quantum_teleportation\\\\quantum_teleportation.py\")\n",
    "circ = quantum_teleportation()\n",
    "qasm2.dump(circ, f\"QiskitPBT\\\\case_studies\\\\quantum_teleportation\\\\mutants\\\\qasm\\\\quantum_teleportation.qasm\")\n",
    "print(circ)"
   ],
   "id": "170e7986056e4fa1",
   "outputs": [
    {
     "name": "stdout",
     "output_type": "stream",
     "text": [
      "                    ┌───┐   \n",
      "q_0: ────────────■──┤ H ├─■─\n",
      "     ┌───┐     ┌─┴─┐└───┘ │ \n",
      "q_1: ┤ H ├──■──┤ X ├──■───┼─\n",
      "     └───┘┌─┴─┐└───┘┌─┴─┐ │ \n",
      "q_2: ─────┤ X ├─────┤ X ├─■─\n",
      "          └───┘     └───┘   \n"
     ]
    }
   ],
   "execution_count": 10
  },
  {
   "metadata": {},
   "cell_type": "code",
   "outputs": [],
   "execution_count": null,
   "source": "",
   "id": "f70b92bee5969516"
  }
 ],
 "metadata": {
  "kernelspec": {
   "display_name": "Python 3",
   "language": "python",
   "name": "python3"
  },
  "language_info": {
   "codemirror_mode": {
    "name": "ipython",
    "version": 2
   },
   "file_extension": ".py",
   "mimetype": "text/x-python",
   "name": "python",
   "nbconvert_exporter": "python",
   "pygments_lexer": "ipython2",
   "version": "2.7.6"
  }
 },
 "nbformat": 4,
 "nbformat_minor": 5
}
