{
 "cells": [
  {
   "cell_type": "code",
   "id": "initial_id",
   "metadata": {
    "collapsed": true,
    "ExecuteTime": {
     "end_time": "2024-08-12T21:26:51.958505Z",
     "start_time": "2024-08-12T21:26:51.954411Z"
    }
   },
   "source": [
    "import importlib.util\n",
    "import csv\n",
    "import sys\n",
    "import os\n",
    "from unittest.mock import patch\n",
    "from QiskitPBT.coordinator import Coordinator\n",
    "from QiskitPBT.test_runner import TestRunner\n",
    "\n",
    "PATH = os.path.abspath(\"\")\n",
    "\n",
    "def import_function(module_str, path, function_name):    \n",
    "    spec = importlib.util.spec_from_file_location(module_str, path)\n",
    "    module = importlib.util.module_from_spec(spec)\n",
    "    sys.modules[module_str] = module\n",
    "    spec.loader.exec_module(module)    \n",
    "    return getattr(module, function_name)"
   ],
   "outputs": [],
   "execution_count": 3
  },
  {
   "metadata": {
    "jupyter": {
     "is_executing": true
    },
    "ExecuteTime": {
     "start_time": "2024-08-12T21:27:04.409326Z"
    }
   },
   "cell_type": "code",
   "source": [
    "def run_tests(algorithm_name, num_inputs, measurements):\n",
    "    results = []\n",
    "    for i in range(0, 2):\n",
    "        circuit_function = import_function(f\"{algorithm_name}_m{i}\", f\"{PATH}\\\\case_studies\\\\{algorithm_name}\\\\mutants\\\\{algorithm_name}_m{i}.py\", algorithm_name)\n",
    "        print(circuit_function())\n",
    "        with (patch(f\"QiskitPBT.case_studies.{algorithm_name}.{algorithm_name}.{algorithm_name}\", circuit_function)):\n",
    "            coordinator = Coordinator(num_inputs, 1)\n",
    "            test_runner = TestRunner()\n",
    "            result = coordinator.test(f\"{PATH}\\\\case_studies\\\\{algorithm_name}\", measurements) \n",
    "\n",
    "            # analyse results, add them to a list representing a csv file row\n",
    "            num_circuits_executed = result.number_circuits_executed\n",
    "            failed_properties = result.failed_property\n",
    "            unique_properties = []\n",
    "            failed_property_string = \"\"\n",
    "            for property in failed_properties:\n",
    "                if property.property.__class__ not in unique_properties:\n",
    "                    failed_property_string += property.property.__class__.__name__ + \" & \"\n",
    "                    unique_properties.append(property.property.__class__)\n",
    "            failed_property_string = failed_property_string[:-3]\n",
    "            num_unique_failed_properties = len(unique_properties)\n",
    "            num_failed_properties = len(failed_properties)\n",
    "            outcome = \"Pass\"\n",
    "            if num_failed_properties > 0:\n",
    "                outcome = \"Fail\"\n",
    "\n",
    "            result_row = [f\"{algorithm_name}_m{i}\", str(outcome), str(num_circuits_executed), str(num_unique_failed_properties), str(num_failed_properties), str(failed_property_string)]\n",
    "\n",
    "            results.append(result_row)\n",
    "    # copy the for loop again for equivalent mutants, but change the name to f\"{algorithm_name}_em{i}\"\n",
    "    for i in range(0, 2):\n",
    "        circuit_function = import_function(f\"{algorithm_name}_em{i}\", f\"{PATH}\\\\case_studies\\\\{algorithm_name}\\\\mutants\\\\{algorithm_name}_em{i}.py\", algorithm_name)\n",
    "        print(circuit_function())\n",
    "        with (patch(f\"QiskitPBT.case_studies.{algorithm_name}.{algorithm_name}.{algorithm_name}\", circuit_function)):\n",
    "            coordinator = Coordinator(num_inputs, 1)\n",
    "            result = coordinator.test(f\"{PATH}\\\\case_studies\\\\{algorithm_name}\", measurements, run_optimization=True) \n",
    "            \n",
    "            # analyse results, add them to a list representing a csv file row\n",
    "            num_circuits_executed = result.number_circuits_executed\n",
    "            failed_properties = result.failed_property\n",
    "            unique_properties = []\n",
    "            failed_property_string = \"\"\n",
    "            for property in failed_properties:\n",
    "                if property.property.__class__ not in unique_properties:\n",
    "                    failed_property_string += property.property.__class__.__name__ + \" & \"\n",
    "                    unique_properties.append(property.property.__class__)\n",
    "            failed_property_string = failed_property_string[:-3]\n",
    "            num_unique_failed_properties = len(unique_properties)\n",
    "            num_failed_properties = len(failed_properties)\n",
    "            outcome = \"Pass\"\n",
    "            if num_failed_properties > 0:\n",
    "                outcome = \"Fail\"\n",
    "                \n",
    "            result_row = [f\"{algorithm_name}_m{i}\", str(outcome), str(num_circuits_executed), str(num_unique_failed_properties), str(num_failed_properties), str(failed_property_string)]\n",
    "\n",
    "            results.append(result_row)\n",
    "            TestRunner.property_classes = []\n",
    "            TestRunner.property_objects = []\n",
    "            TestRunner.seeds_list_dict = {}\n",
    "            TestRunner.num_inputs = 0\n",
    "            TestRunner.do_shrinking = None\n",
    "            TestRunner.max_attempts = 0\n",
    "            TestRunner.num_measurements = 0\n",
    "            TestRunner.test_execution_stats = None\n",
    "    return results\n",
    "\n",
    "test_and_store(\"quantum_teleportation\")"
   ],
   "id": "97521390d8003ece",
   "outputs": [
    {
     "name": "stdout",
     "output_type": "stream",
     "text": [
      "number of inputs: 3, number of measurements: 2000\n",
      "                    ┌───┐┌──────┐\n",
      "q_0: ────────────■──┤ H ├┤0     ├\n",
      "     ┌───┐     ┌─┴─┐└───┘│      │\n",
      "q_1: ┤ H ├──■──┤ X ├──■──┤  Dcx ├\n",
      "     └───┘┌─┴─┐└───┘┌─┴─┐│      │\n",
      "q_2: ─────┤ X ├─────┤ X ├┤1     ├\n",
      "          └───┘     └───┘└──────┘\n",
      "{<class 'unitary_before_teleport_equal_unitary_after_teleport_property.UnitaryBeforeAndAfterTeleport'>, <class 'input_reg0_equal_to_output_reg2_property.Inq0EqualOutq2'>, <class 'not_teleported_registers_equal_to_plus_property.NotTeleportedPlus'>}\n",
      "preflight steps 3.7744390964508057\n",
      "circuit execution time 40.48219132423401\n",
      "measurement allocation time 0.13564133644104004\n",
      "p val calc time 0.16216063499450684\n",
      "                    ┌───┐     \n",
      "q_0: ────────────■──┤ H ├──■──\n",
      "     ┌───┐     ┌─┴─┐└───┘  │  \n",
      "q_1: ┤ H ├──■──┤ X ├──■────┼──\n",
      "     └───┘┌─┴─┐└───┘┌─┴─┐┌─┴─┐\n",
      "q_2: ─────┤ X ├─────┤ X ├┤ X ├\n",
      "          └───┘     └───┘└───┘\n",
      "{<class 'unitary_before_teleport_equal_unitary_after_teleport_property.UnitaryBeforeAndAfterTeleport'>, <class 'input_reg0_equal_to_output_reg2_property.Inq0EqualOutq2'>, <class 'not_teleported_registers_equal_to_plus_property.NotTeleportedPlus'>}\n",
      "preflight steps 4.479511499404907\n",
      "circuit execution time 63.99148488044739\n",
      "measurement allocation time 0.3895864486694336\n",
      "p val calc time 0.27805018424987793\n",
      "                    ┌───┐              \n",
      "q_0: ────────────■──┤ H ├────────────■─\n",
      "     ┌───┐     ┌─┴─┐└───┘            │ \n",
      "q_1: ┤ H ├──■──┤ X ├─────────────■───┼─\n",
      "     └───┘┌─┴─┐├───┤┌───┐┌────┐┌─┴─┐ │ \n",
      "q_2: ─────┤ X ├┤ Z ├┤ X ├┤ iY ├┤ X ├─■─\n",
      "          └───┘└───┘└───┘└────┘└───┘   \n",
      "{<class 'unitary_before_teleport_equal_unitary_after_teleport_property.UnitaryBeforeAndAfterTeleport'>, <class 'input_reg0_equal_to_output_reg2_property.Inq0EqualOutq2'>, <class 'not_teleported_registers_equal_to_plus_property.NotTeleportedPlus'>}\n",
      "preflight steps 4.45319676399231\n",
      "circuit execution time 64.97489714622498\n",
      "measurement allocation time 0.3071262836456299\n",
      "p val calc time 0.27262377738952637\n",
      "                    ┌───┐   ┌───┐┌───┐\n",
      "q_0: ────────────■──┤ H ├─■─┤ Y ├┤ Y ├\n",
      "     ┌───┐     ┌─┴─┐└───┘ │ └───┘└───┘\n",
      "q_1: ┤ H ├──■──┤ X ├──■───┼───────────\n",
      "     └───┘┌─┴─┐└───┘┌─┴─┐ │           \n",
      "q_2: ─────┤ X ├─────┤ X ├─■───────────\n",
      "          └───┘     └───┘             \n",
      "{<class 'unitary_before_teleport_equal_unitary_after_teleport_property.UnitaryBeforeAndAfterTeleport'>, <class 'input_reg0_equal_to_output_reg2_property.Inq0EqualOutq2'>, <class 'not_teleported_registers_equal_to_plus_property.NotTeleportedPlus'>}\n",
      "preflight steps 4.461232423782349\n",
      "circuit execution time 64.59824967384338\n",
      "measurement allocation time 0.3029336929321289\n",
      "p val calc time 0.2825343608856201\n"
     ]
    }
   ],
   "execution_count": null
  },
  {
   "metadata": {
    "ExecuteTime": {
     "end_time": "2024-08-12T21:26:56.263424Z",
     "start_time": "2024-08-12T21:26:56.259013Z"
    }
   },
   "cell_type": "code",
   "source": [
    "# I have written this specifically such that all the separate results of different configurations go in separate files \n",
    "# Just in case something goes horribly run when running, we won't lose everything\n",
    "def test_and_store(algorithm_name):\n",
    "    inputs = [3]\n",
    "    shots = [2000]\n",
    "    for input in inputs:\n",
    "        for measurements in shots:\n",
    "            print(f\"number of inputs: {input}, number of measurements: {measurements}\")\n",
    "            filename = f\"mutation_test_results/{algorithm_name}/{algorithm_name}_{input}_{measurements}_mt_results.csv\"\n",
    "            dir = os.path.dirname(filename)\n",
    "            if dir and not os.path.exists(dir):\n",
    "                os.makedirs(dir)\n",
    "            with open(filename, 'w', newline='') as csvfile:\n",
    "                csvwriter = csv.writer(csvfile)\n",
    "                csvwriter.writerow([\"Mutant Name\", \"Result\", \"Number of Circuits Executed\", \"Number of Unique Failed Properties\", \"Number of Failed Properties\", \"Unique Failed Properties\",])\n",
    "                csvwriter.writerows(run_tests(algorithm_name, input, measurements))\n",
    "                csvfile.close()"
   ],
   "id": "a758dffd3b857ce3",
   "outputs": [],
   "execution_count": 5
  },
  {
   "metadata": {
    "ExecuteTime": {
     "end_time": "2024-08-12T21:23:16.662270300Z",
     "start_time": "2024-08-12T21:22:05.974693Z"
    }
   },
   "cell_type": "code",
   "source": "test_and_store(\"quantum_teleportation\")",
   "id": "8f8fc5a6fa59003e",
   "outputs": [
    {
     "name": "stdout",
     "output_type": "stream",
     "text": [
      "number of inputs: 3, number of measurements: 2000\n",
      "                    ┌───┐┌──────┐\n",
      "q_0: ────────────■──┤ H ├┤0     ├\n",
      "     ┌───┐     ┌─┴─┐└───┘│      │\n",
      "q_1: ┤ H ├──■──┤ X ├──■──┤  Dcx ├\n",
      "     └───┘┌─┴─┐└───┘┌─┴─┐│      │\n",
      "q_2: ─────┤ X ├─────┤ X ├┤1     ├\n",
      "          └───┘     └───┘└──────┘\n",
      "{<class 'input_reg0_equal_to_output_reg2_property.Inq0EqualOutq2'>, <class 'unitary_before_teleport_equal_unitary_after_teleport_property.UnitaryBeforeAndAfterTeleport'>, <class 'not_teleported_registers_equal_to_plus_property.NotTeleportedPlus'>}\n",
      "preflight steps 3.788393259048462\n",
      "circuit execution time 40.74892711639404\n",
      "measurement allocation time 0.13530564308166504\n",
      "p val calc time 0.15773701667785645\n",
      "                    ┌───┐     \n",
      "q_0: ────────────■──┤ H ├──■──\n",
      "     ┌───┐     ┌─┴─┐└───┘  │  \n",
      "q_1: ┤ H ├──■──┤ X ├──■────┼──\n",
      "     └───┘┌─┴─┐└───┘┌─┴─┐┌─┴─┐\n",
      "q_2: ─────┤ X ├─────┤ X ├┤ X ├\n",
      "          └───┘     └───┘└───┘\n",
      "{<class 'input_reg0_equal_to_output_reg2_property.Inq0EqualOutq2'>, <class 'unitary_before_teleport_equal_unitary_after_teleport_property.UnitaryBeforeAndAfterTeleport'>, <class 'not_teleported_registers_equal_to_plus_property.NotTeleportedPlus'>}\n",
      "preflight steps 2.2220187187194824\n"
     ]
    },
    {
     "ename": "KeyboardInterrupt",
     "evalue": "",
     "output_type": "error",
     "traceback": [
      "\u001B[1;31m---------------------------------------------------------------------------\u001B[0m",
      "\u001B[1;31mKeyboardInterrupt\u001B[0m                         Traceback (most recent call last)",
      "Cell \u001B[1;32mIn[4], line 1\u001B[0m\n\u001B[1;32m----> 1\u001B[0m test_and_store(\u001B[38;5;124m\"\u001B[39m\u001B[38;5;124mquantum_teleportation\u001B[39m\u001B[38;5;124m\"\u001B[39m)\n",
      "Cell \u001B[1;32mIn[3], line 16\u001B[0m, in \u001B[0;36mtest_and_store\u001B[1;34m(algorithm_name)\u001B[0m\n\u001B[0;32m     14\u001B[0m csvwriter \u001B[38;5;241m=\u001B[39m csv\u001B[38;5;241m.\u001B[39mwriter(csvfile)\n\u001B[0;32m     15\u001B[0m csvwriter\u001B[38;5;241m.\u001B[39mwriterow([\u001B[38;5;124m\"\u001B[39m\u001B[38;5;124mMutant Name\u001B[39m\u001B[38;5;124m\"\u001B[39m, \u001B[38;5;124m\"\u001B[39m\u001B[38;5;124mResult\u001B[39m\u001B[38;5;124m\"\u001B[39m, \u001B[38;5;124m\"\u001B[39m\u001B[38;5;124mNumber of Circuits Executed\u001B[39m\u001B[38;5;124m\"\u001B[39m, \u001B[38;5;124m\"\u001B[39m\u001B[38;5;124mNumber of Unique Failed Properties\u001B[39m\u001B[38;5;124m\"\u001B[39m, \u001B[38;5;124m\"\u001B[39m\u001B[38;5;124mNumber of Failed Properties\u001B[39m\u001B[38;5;124m\"\u001B[39m, \u001B[38;5;124m\"\u001B[39m\u001B[38;5;124mUnique Failed Properties\u001B[39m\u001B[38;5;124m\"\u001B[39m,])\n\u001B[1;32m---> 16\u001B[0m csvwriter\u001B[38;5;241m.\u001B[39mwriterows(run_tests(algorithm_name, \u001B[38;5;28minput\u001B[39m, measurements))\n\u001B[0;32m     17\u001B[0m csvfile\u001B[38;5;241m.\u001B[39mclose()\n",
      "Cell \u001B[1;32mIn[2], line 8\u001B[0m, in \u001B[0;36mrun_tests\u001B[1;34m(algorithm_name, num_inputs, measurements)\u001B[0m\n\u001B[0;32m      6\u001B[0m \u001B[38;5;28;01mwith\u001B[39;00m (patch(\u001B[38;5;124mf\u001B[39m\u001B[38;5;124m\"\u001B[39m\u001B[38;5;124mQiskitPBT.case_studies.\u001B[39m\u001B[38;5;132;01m{\u001B[39;00malgorithm_name\u001B[38;5;132;01m}\u001B[39;00m\u001B[38;5;124m.\u001B[39m\u001B[38;5;132;01m{\u001B[39;00malgorithm_name\u001B[38;5;132;01m}\u001B[39;00m\u001B[38;5;124m.\u001B[39m\u001B[38;5;132;01m{\u001B[39;00malgorithm_name\u001B[38;5;132;01m}\u001B[39;00m\u001B[38;5;124m\"\u001B[39m, circuit_function)):\n\u001B[0;32m      7\u001B[0m     coordinator \u001B[38;5;241m=\u001B[39m Coordinator(num_inputs, \u001B[38;5;241m1\u001B[39m)\n\u001B[1;32m----> 8\u001B[0m     result \u001B[38;5;241m=\u001B[39m coordinator\u001B[38;5;241m.\u001B[39mtest(\u001B[38;5;124mf\u001B[39m\u001B[38;5;124m\"\u001B[39m\u001B[38;5;132;01m{\u001B[39;00mPATH\u001B[38;5;132;01m}\u001B[39;00m\u001B[38;5;130;01m\\\\\u001B[39;00m\u001B[38;5;124mcase_studies\u001B[39m\u001B[38;5;130;01m\\\\\u001B[39;00m\u001B[38;5;132;01m{\u001B[39;00malgorithm_name\u001B[38;5;132;01m}\u001B[39;00m\u001B[38;5;124m\"\u001B[39m, measurements) \n\u001B[0;32m     10\u001B[0m     \u001B[38;5;66;03m# analyse results, add them to a list representing a csv file row\u001B[39;00m\n\u001B[0;32m     11\u001B[0m     num_circuits_executed \u001B[38;5;241m=\u001B[39m result\u001B[38;5;241m.\u001B[39mnumber_circuits_executed\n",
      "File \u001B[1;32m~\\Desktop\\PycharmProjects\\QiskitPBT\\coordinator.py:45\u001B[0m, in \u001B[0;36mCoordinator.test\u001B[1;34m(self, path, measurements, run_optimization)\u001B[0m\n\u001B[0;32m     43\u001B[0m \u001B[38;5;28mprint\u001B[39m(\u001B[38;5;28mself\u001B[39m\u001B[38;5;241m.\u001B[39mproperty_classes)\n\u001B[0;32m     44\u001B[0m \u001B[38;5;28mself\u001B[39m\u001B[38;5;241m.\u001B[39mtest_runner \u001B[38;5;241m=\u001B[39m TestRunner(\u001B[38;5;28mself\u001B[39m\u001B[38;5;241m.\u001B[39mproperty_classes, \u001B[38;5;28mself\u001B[39m\u001B[38;5;241m.\u001B[39mnum_inputs, \u001B[38;5;28mself\u001B[39m\u001B[38;5;241m.\u001B[39mrandom_seed, measurements)\n\u001B[1;32m---> 45\u001B[0m \u001B[38;5;28;01mreturn\u001B[39;00m \u001B[38;5;28mself\u001B[39m\u001B[38;5;241m.\u001B[39mtest_runner\u001B[38;5;241m.\u001B[39mrun_tests(backend\u001B[38;5;241m=\u001B[39m\u001B[38;5;28mself\u001B[39m\u001B[38;5;241m.\u001B[39mbackend, run_optimization\u001B[38;5;241m=\u001B[39mrun_optimization, family_wise_p_value\u001B[38;5;241m=\u001B[39m\u001B[38;5;28mself\u001B[39m\u001B[38;5;241m.\u001B[39malpha)\n",
      "File \u001B[1;32m~\\Desktop\\PycharmProjects\\QiskitPBT\\test_runner.py:125\u001B[0m, in \u001B[0;36mTestRunner.run_tests\u001B[1;34m(self, backend, run_optimization, family_wise_p_value)\u001B[0m\n\u001B[0;32m    123\u001B[0m             \u001B[38;5;28mprint\u001B[39m(\u001B[38;5;124m\"\u001B[39m\u001B[38;5;124mSkipping statistical analysis for this property\u001B[39m\u001B[38;5;124m\"\u001B[39m)\n\u001B[0;32m    124\u001B[0m             property_obj\u001B[38;5;241m.\u001B[39mclassical_assertion_outcome \u001B[38;5;241m=\u001B[39m \u001B[38;5;28;01mFalse\u001B[39;00m\n\u001B[1;32m--> 125\u001B[0m \u001B[38;5;28mself\u001B[39m\u001B[38;5;241m.\u001B[39mtest_execution_stats \u001B[38;5;241m=\u001B[39m stat_analysis_coordinator\u001B[38;5;241m.\u001B[39mperform_analysis(properties, backend, run_optimization)\n\u001B[0;32m    126\u001B[0m \u001B[38;5;28;01mreturn\u001B[39;00m \u001B[38;5;28mself\u001B[39m\u001B[38;5;241m.\u001B[39mtest_execution_stats\n",
      "File \u001B[1;32m~\\Desktop\\PycharmProjects\\QiskitPBT\\stats\\statistical_analysis_coordinator.py:107\u001B[0m, in \u001B[0;36mStatisticalAnalysisCoordinator.perform_analysis\u001B[1;34m(self, properties, backend, run_optimization)\u001B[0m\n\u001B[0;32m    104\u001B[0m     \u001B[38;5;28;01mfor\u001B[39;00m assertion \u001B[38;5;129;01min\u001B[39;00m \u001B[38;5;28mself\u001B[39m\u001B[38;5;241m.\u001B[39massertions_for_property[\u001B[38;5;28mproperty\u001B[39m]:\n\u001B[0;32m    105\u001B[0m         circuit_generator\u001B[38;5;241m.\u001B[39madd_measurement_configuration(assertion\u001B[38;5;241m.\u001B[39mget_measurement_configuration())\n\u001B[1;32m--> 107\u001B[0m measurements, num_circuits_executed \u001B[38;5;241m=\u001B[39m \u001B[38;5;28mself\u001B[39m\u001B[38;5;241m.\u001B[39m_perform_measurements(circuit_generator, backend)\n\u001B[0;32m    108\u001B[0m test_execution_stats\u001B[38;5;241m.\u001B[39mnumber_circuits_executed \u001B[38;5;241m=\u001B[39m num_circuits_executed\n\u001B[0;32m    109\u001B[0m start_time \u001B[38;5;241m=\u001B[39m time()\n",
      "File \u001B[1;32m~\\Desktop\\PycharmProjects\\QiskitPBT\\stats\\statistical_analysis_coordinator.py:159\u001B[0m, in \u001B[0;36mStatisticalAnalysisCoordinator._perform_measurements\u001B[1;34m(self, circuit_generator, backend)\u001B[0m\n\u001B[0;32m    157\u001B[0m \u001B[38;5;28mprint\u001B[39m(\u001B[38;5;124m\"\u001B[39m\u001B[38;5;124mpreflight steps\u001B[39m\u001B[38;5;124m\"\u001B[39m, time()\u001B[38;5;241m-\u001B[39mstart_time)\n\u001B[0;32m    158\u001B[0m start_time \u001B[38;5;241m=\u001B[39m time()\n\u001B[1;32m--> 159\u001B[0m results \u001B[38;5;241m=\u001B[39m backend\u001B[38;5;241m.\u001B[39mrun(transpiled_circuits, shots\u001B[38;5;241m=\u001B[39m\u001B[38;5;28mself\u001B[39m\u001B[38;5;241m.\u001B[39mnumber_of_measurements)\u001B[38;5;241m.\u001B[39mresult()\u001B[38;5;241m.\u001B[39mget_counts()\n\u001B[0;32m    160\u001B[0m \u001B[38;5;28mprint\u001B[39m(\u001B[38;5;124m\"\u001B[39m\u001B[38;5;124mcircuit execution time\u001B[39m\u001B[38;5;124m\"\u001B[39m, time()\u001B[38;5;241m-\u001B[39mstart_time)\n\u001B[0;32m    161\u001B[0m start_time \u001B[38;5;241m=\u001B[39m time()\n",
      "File \u001B[1;32m~\\anaconda3\\envs\\qiskit_one\\Lib\\site-packages\\qiskit\\providers\\basic_provider\\basic_simulator.py:499\u001B[0m, in \u001B[0;36mBasicSimulator.run\u001B[1;34m(self, run_input, **backend_options)\u001B[0m\n\u001B[0;32m    497\u001B[0m \u001B[38;5;28mself\u001B[39m\u001B[38;5;241m.\u001B[39m_set_options(qobj_config\u001B[38;5;241m=\u001B[39mqobj_options, backend_options\u001B[38;5;241m=\u001B[39mbackend_options)\n\u001B[0;32m    498\u001B[0m job_id \u001B[38;5;241m=\u001B[39m \u001B[38;5;28mstr\u001B[39m(uuid\u001B[38;5;241m.\u001B[39muuid4())\n\u001B[1;32m--> 499\u001B[0m job \u001B[38;5;241m=\u001B[39m BasicProviderJob(\u001B[38;5;28mself\u001B[39m, job_id, \u001B[38;5;28mself\u001B[39m\u001B[38;5;241m.\u001B[39m_run_job(job_id, qobj))\n\u001B[0;32m    500\u001B[0m \u001B[38;5;28;01mreturn\u001B[39;00m job\n",
      "File \u001B[1;32m~\\anaconda3\\envs\\qiskit_one\\Lib\\site-packages\\qiskit\\providers\\basic_provider\\basic_simulator.py:519\u001B[0m, in \u001B[0;36mBasicSimulator._run_job\u001B[1;34m(self, job_id, qobj)\u001B[0m\n\u001B[0;32m    517\u001B[0m start \u001B[38;5;241m=\u001B[39m time\u001B[38;5;241m.\u001B[39mtime()\n\u001B[0;32m    518\u001B[0m \u001B[38;5;28;01mfor\u001B[39;00m experiment \u001B[38;5;129;01min\u001B[39;00m qobj\u001B[38;5;241m.\u001B[39mexperiments:\n\u001B[1;32m--> 519\u001B[0m     result_list\u001B[38;5;241m.\u001B[39mappend(\u001B[38;5;28mself\u001B[39m\u001B[38;5;241m.\u001B[39mrun_experiment(experiment))\n\u001B[0;32m    520\u001B[0m end \u001B[38;5;241m=\u001B[39m time\u001B[38;5;241m.\u001B[39mtime()\n\u001B[0;32m    521\u001B[0m result \u001B[38;5;241m=\u001B[39m {\n\u001B[0;32m    522\u001B[0m     \u001B[38;5;124m\"\u001B[39m\u001B[38;5;124mbackend_name\u001B[39m\u001B[38;5;124m\"\u001B[39m: \u001B[38;5;28mself\u001B[39m\u001B[38;5;241m.\u001B[39mname,\n\u001B[0;32m    523\u001B[0m     \u001B[38;5;124m\"\u001B[39m\u001B[38;5;124mbackend_version\u001B[39m\u001B[38;5;124m\"\u001B[39m: \u001B[38;5;28mself\u001B[39m\u001B[38;5;241m.\u001B[39mbackend_version,\n\u001B[1;32m   (...)\u001B[0m\n\u001B[0;32m    530\u001B[0m     \u001B[38;5;124m\"\u001B[39m\u001B[38;5;124mheader\u001B[39m\u001B[38;5;124m\"\u001B[39m: qobj\u001B[38;5;241m.\u001B[39mheader\u001B[38;5;241m.\u001B[39mto_dict(),\n\u001B[0;32m    531\u001B[0m }\n",
      "File \u001B[1;32m~\\anaconda3\\envs\\qiskit_one\\Lib\\site-packages\\qiskit\\providers\\basic_provider\\basic_simulator.py:656\u001B[0m, in \u001B[0;36mBasicSimulator.run_experiment\u001B[1;34m(self, experiment)\u001B[0m\n\u001B[0;32m    653\u001B[0m         measure_sample_ops\u001B[38;5;241m.\u001B[39mappend((qubit, cmembit))\n\u001B[0;32m    654\u001B[0m     \u001B[38;5;28;01melse\u001B[39;00m:\n\u001B[0;32m    655\u001B[0m         \u001B[38;5;66;03m# If not sampling perform measurement as normal\u001B[39;00m\n\u001B[1;32m--> 656\u001B[0m         \u001B[38;5;28mself\u001B[39m\u001B[38;5;241m.\u001B[39m_add_measure(qubit, cmembit, cregbit)\n\u001B[0;32m    657\u001B[0m \u001B[38;5;28;01melif\u001B[39;00m operation\u001B[38;5;241m.\u001B[39mname \u001B[38;5;241m==\u001B[39m \u001B[38;5;124m\"\u001B[39m\u001B[38;5;124mbfunc\u001B[39m\u001B[38;5;124m\"\u001B[39m:\n\u001B[0;32m    658\u001B[0m     mask \u001B[38;5;241m=\u001B[39m \u001B[38;5;28mint\u001B[39m(operation\u001B[38;5;241m.\u001B[39mmask, \u001B[38;5;241m16\u001B[39m)\n",
      "File \u001B[1;32m~\\anaconda3\\envs\\qiskit_one\\Lib\\site-packages\\qiskit\\providers\\basic_provider\\basic_simulator.py:338\u001B[0m, in \u001B[0;36mBasicSimulator._add_measure\u001B[1;34m(self, qubit, cmembit, cregbit)\u001B[0m\n\u001B[0;32m    336\u001B[0m     update_diag \u001B[38;5;241m=\u001B[39m [[\u001B[38;5;241m0\u001B[39m, \u001B[38;5;241m0\u001B[39m], [\u001B[38;5;241m0\u001B[39m, \u001B[38;5;241m1\u001B[39m \u001B[38;5;241m/\u001B[39m np\u001B[38;5;241m.\u001B[39msqrt(probability)]]\n\u001B[0;32m    337\u001B[0m \u001B[38;5;66;03m# update classical state\u001B[39;00m\n\u001B[1;32m--> 338\u001B[0m \u001B[38;5;28mself\u001B[39m\u001B[38;5;241m.\u001B[39m_add_unitary(update_diag, [qubit])\n",
      "File \u001B[1;32m~\\anaconda3\\envs\\qiskit_one\\Lib\\site-packages\\qiskit\\providers\\basic_provider\\basic_simulator.py:228\u001B[0m, in \u001B[0;36mBasicSimulator._add_unitary\u001B[1;34m(self, gate, qubits)\u001B[0m\n\u001B[0;32m    216\u001B[0m \u001B[38;5;129m@classmethod\u001B[39m\n\u001B[0;32m    217\u001B[0m \u001B[38;5;28;01mdef\u001B[39;00m \u001B[38;5;21m_default_options\u001B[39m(\u001B[38;5;28mcls\u001B[39m) \u001B[38;5;241m-\u001B[39m\u001B[38;5;241m>\u001B[39m Options:\n\u001B[0;32m    218\u001B[0m     \u001B[38;5;28;01mreturn\u001B[39;00m Options(\n\u001B[0;32m    219\u001B[0m         shots\u001B[38;5;241m=\u001B[39m\u001B[38;5;241m1024\u001B[39m,\n\u001B[0;32m    220\u001B[0m         memory\u001B[38;5;241m=\u001B[39m\u001B[38;5;28;01mFalse\u001B[39;00m,\n\u001B[1;32m   (...)\u001B[0m\n\u001B[0;32m    225\u001B[0m         parameter_binds\u001B[38;5;241m=\u001B[39m\u001B[38;5;28;01mNone\u001B[39;00m,\n\u001B[0;32m    226\u001B[0m     )\n\u001B[1;32m--> 228\u001B[0m \u001B[38;5;28;01mdef\u001B[39;00m \u001B[38;5;21m_add_unitary\u001B[39m(\u001B[38;5;28mself\u001B[39m, gate: np\u001B[38;5;241m.\u001B[39mndarray, qubits: \u001B[38;5;28mlist\u001B[39m[\u001B[38;5;28mint\u001B[39m]) \u001B[38;5;241m-\u001B[39m\u001B[38;5;241m>\u001B[39m \u001B[38;5;28;01mNone\u001B[39;00m:\n\u001B[0;32m    229\u001B[0m \u001B[38;5;250m    \u001B[39m\u001B[38;5;124;03m\"\"\"Apply an N-qubit unitary matrix.\u001B[39;00m\n\u001B[0;32m    230\u001B[0m \n\u001B[0;32m    231\u001B[0m \u001B[38;5;124;03m    Args:\u001B[39;00m\n\u001B[0;32m    232\u001B[0m \u001B[38;5;124;03m        gate (matrix_like): an N-qubit unitary matrix\u001B[39;00m\n\u001B[0;32m    233\u001B[0m \u001B[38;5;124;03m        qubits (list): the list of N-qubits.\u001B[39;00m\n\u001B[0;32m    234\u001B[0m \u001B[38;5;124;03m    \"\"\"\u001B[39;00m\n\u001B[0;32m    235\u001B[0m     \u001B[38;5;66;03m# Get the number of qubits\u001B[39;00m\n",
      "File \u001B[1;32m_pydevd_bundle\\\\pydevd_cython_win32_312_64.pyx:1535\u001B[0m, in \u001B[0;36m_pydevd_bundle.pydevd_cython_win32_312_64.ThreadTracer.__call__\u001B[1;34m()\u001B[0m\n",
      "File \u001B[1;32mC:\\Program Files\\JetBrains\\PyCharm 2024.1.4\\plugins\\python-ce\\helpers\\pydev\\_pydev_bundle\\pydev_is_thread_alive.py:10\u001B[0m, in \u001B[0;36mis_thread_alive\u001B[1;34m(t)\u001B[0m\n\u001B[0;32m      8\u001B[0m \u001B[38;5;66;03m# Python <=3.12\u001B[39;00m\n\u001B[0;32m      9\u001B[0m \u001B[38;5;28;01mif\u001B[39;00m \u001B[38;5;28mhasattr\u001B[39m(_temp, \u001B[38;5;124m'\u001B[39m\u001B[38;5;124m_is_stopped\u001B[39m\u001B[38;5;124m'\u001B[39m):\n\u001B[1;32m---> 10\u001B[0m     \u001B[38;5;28;01mdef\u001B[39;00m \u001B[38;5;21mis_thread_alive\u001B[39m(t):\n\u001B[0;32m     11\u001B[0m         \u001B[38;5;28;01mreturn\u001B[39;00m \u001B[38;5;129;01mnot\u001B[39;00m t\u001B[38;5;241m.\u001B[39m_is_stopped\n\u001B[0;32m     13\u001B[0m \u001B[38;5;66;03m# Python 2.x\u001B[39;00m\n",
      "\u001B[1;31mKeyboardInterrupt\u001B[0m: "
     ]
    }
   ],
   "execution_count": 4
  },
  {
   "metadata": {
    "ExecuteTime": {
     "end_time": "2024-08-12T20:50:16.936061Z",
     "start_time": "2024-08-12T20:50:16.933026Z"
    }
   },
   "cell_type": "code",
   "source": "# test_and_store(\"deutsch_jozsa\")",
   "id": "ec075a832c70f502",
   "outputs": [],
   "execution_count": 5
  },
  {
   "metadata": {
    "ExecuteTime": {
     "end_time": "2024-08-12T20:50:16.956506Z",
     "start_time": "2024-08-12T20:50:16.954104Z"
    }
   },
   "cell_type": "code",
   "source": "# test_and_store(\"grovers_algorithm\")",
   "id": "3c84d5b03efc3c98",
   "outputs": [],
   "execution_count": 6
  },
  {
   "metadata": {
    "ExecuteTime": {
     "end_time": "2024-08-12T20:50:16.974220Z",
     "start_time": "2024-08-12T20:50:16.971259Z"
    }
   },
   "cell_type": "code",
   "source": "# test_and_store(\"quantum_fourier_transform\")",
   "id": "d16727113e796700",
   "outputs": [],
   "execution_count": 7
  },
  {
   "metadata": {
    "ExecuteTime": {
     "end_time": "2024-08-12T20:50:16.984369Z",
     "start_time": "2024-08-12T20:50:16.981325Z"
    }
   },
   "cell_type": "code",
   "source": "# test_and_store(\"quantum_phase_estimation\")",
   "id": "54a395f205d6ca22",
   "outputs": [],
   "execution_count": 8
  },
  {
   "metadata": {
    "ExecuteTime": {
     "end_time": "2024-08-12T20:50:16.993209Z",
     "start_time": "2024-08-12T20:50:16.990101Z"
    }
   },
   "cell_type": "code",
   "source": [
    "# algorithm_name = \"quantum_teleportation\"\n",
    "# measurements = 2000\n",
    "# num_inputs = 1\n",
    "# coordinator = Coordinator(num_inputs, 1)\n",
    "# result = coordinator.test(f\"{PATH}\\\\case_studies\\\\{algorithm_name}\", measurements) \n",
    "# print(result.failed_property)\n"
   ],
   "id": "a2553fb551e7faf0",
   "outputs": [],
   "execution_count": 9
  },
  {
   "metadata": {
    "ExecuteTime": {
     "end_time": "2024-08-12T20:50:17.001892Z",
     "start_time": "2024-08-12T20:50:16.998393Z"
    }
   },
   "cell_type": "code",
   "source": [
    "# algorithm_name = \"deutsch_jozsa\"\n",
    "# measurements = 2000\n",
    "# num_inputs = 1\n",
    "# coordinator = Coordinator(num_inputs, 1)\n",
    "# result = coordinator.test(f\"{PATH}\\\\case_studies\\\\{algorithm_name}\", measurements) \n",
    "# print(result.failed_property)"
   ],
   "id": "fd3502c51e64d3a3",
   "outputs": [],
   "execution_count": 10
  }
 ],
 "metadata": {
  "kernelspec": {
   "display_name": "Python 3",
   "language": "python",
   "name": "python3"
  },
  "language_info": {
   "codemirror_mode": {
    "name": "ipython",
    "version": 2
   },
   "file_extension": ".py",
   "mimetype": "text/x-python",
   "name": "python",
   "nbconvert_exporter": "python",
   "pygments_lexer": "ipython2",
   "version": "2.7.6"
  }
 },
 "nbformat": 4,
 "nbformat_minor": 5
}
