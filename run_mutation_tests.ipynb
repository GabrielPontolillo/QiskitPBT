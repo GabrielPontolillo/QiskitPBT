{
 "cells": [
  {
   "cell_type": "code",
   "id": "initial_id",
   "metadata": {
    "collapsed": true,
    "ExecuteTime": {
     "end_time": "2024-08-12T00:18:16.870042Z",
     "start_time": "2024-08-12T00:18:16.865492Z"
    }
   },
   "source": [
    "import importlib.util\n",
    "import csv\n",
    "import sys\n",
    "import os\n",
    "from unittest.mock import patch\n",
    "from QiskitPBT.coordinator import Coordinator\n",
    "\n",
    "PATH = os.path.abspath(\"\")\n",
    "\n",
    "def import_function(module_str, path, function_name):    \n",
    "    spec = importlib.util.spec_from_file_location(module_str, path)\n",
    "    module = importlib.util.module_from_spec(spec)\n",
    "    sys.modules[module_str] = module\n",
    "    spec.loader.exec_module(module)    \n",
    "    return getattr(module, function_name)"
   ],
   "outputs": [],
   "execution_count": 16
  },
  {
   "metadata": {
    "ExecuteTime": {
     "end_time": "2024-08-12T00:18:17.133842Z",
     "start_time": "2024-08-12T00:18:17.128298Z"
    }
   },
   "cell_type": "code",
   "source": [
    "def run_tests(algorithm_name, num_inputs, measurements):\n",
    "    results = []\n",
    "    for i in range(0, 10):\n",
    "        circuit_function = import_function(f\"{algorithm_name}_m{i}\", f\"{PATH}\\\\case_studies\\\\{algorithm_name}\\\\mutants\\\\{algorithm_name}_m{i}.py\", algorithm_name)\n",
    "        with (patch(f\"QiskitPBT.case_studies.{algorithm_name}.{algorithm_name}.{algorithm_name}\", circuit_function)):\n",
    "            coordinator = Coordinator(num_inputs, 1)\n",
    "            result = coordinator.test(f\"{PATH}\\\\case_studies\\\\{algorithm_name}\", measurements) \n",
    "            \n",
    "            # analyse results, add them to a list representing a csv file row\n",
    "            num_circuits_executed = result.number_circuits_executed\n",
    "            failed_properties = result.failed_property\n",
    "            unique_properties = []\n",
    "            failed_property_string = \"\"\n",
    "            for property in failed_properties:\n",
    "                if property.property.__class__ not in unique_properties:\n",
    "                    failed_property_string += property.property.__class__.__name__ + \" & \"\n",
    "                    unique_properties.append(property.property.__class__)\n",
    "            failed_property_string = failed_property_string[:-3]\n",
    "            num_unique_failed_properties = len(unique_properties)\n",
    "            num_failed_properties = len(failed_properties)\n",
    "            outcome = \"Pass\"\n",
    "            if num_failed_properties > 0:\n",
    "                outcome = \"Fail\"\n",
    "                \n",
    "            results.append([f\"{algorithm_name}_m{i}\", outcome, num_circuits_executed, num_unique_failed_properties, num_failed_properties, failed_property_string])\n",
    "    # copy the for loop again for equivalent mutants, but change the name to f\"{algorithm_name}_em{i}\"\n",
    "    return results"
   ],
   "id": "97521390d8003ece",
   "outputs": [],
   "execution_count": 17
  },
  {
   "metadata": {
    "ExecuteTime": {
     "end_time": "2024-08-12T00:18:17.568308Z",
     "start_time": "2024-08-12T00:18:17.563098Z"
    }
   },
   "cell_type": "code",
   "source": [
    "# I have written this specifically such that all the separate results of different configurations go in separate files \n",
    "# Just in case something goes horribly run when running, we won't lose everything\n",
    "def test_and_store(algorithm_name):\n",
    "    inputs = [3, 2, 1]\n",
    "    shots = [15, 10, 5]\n",
    "    for input in inputs:\n",
    "        for measurements in shots:\n",
    "            print(f\"number of inputs: {input}, number of measurements: {measurements}\")\n",
    "            filename = f\"mutation_test_results/{algorithm_name}/{algorithm_name}_{input}_{measurements}_mt_results.csv\"\n",
    "            dir = os.path.dirname(filename)\n",
    "            if dir and not os.path.exists(dir):\n",
    "                os.makedirs(dir)\n",
    "            with open(filename, 'w', newline='') as csvfile:\n",
    "                csvwriter = csv.writer(csvfile)\n",
    "                csvwriter.writerow([\"Mutant Name\", \"Result\", \"Number of Circuits Executed\", \"Number of Unique Failed Properties\", \"Number of Failed Properties\", \"Unique Failed Properties\",])\n",
    "                csvwriter.writerows(run_tests(algorithm_name, input, measurements))\n",
    "                csvfile.close()"
   ],
   "id": "a758dffd3b857ce3",
   "outputs": [],
   "execution_count": 18
  },
  {
   "metadata": {
    "ExecuteTime": {
     "end_time": "2024-08-12T00:18:24.540209Z",
     "start_time": "2024-08-12T00:18:18.819132Z"
    }
   },
   "cell_type": "code",
   "source": "test_and_store(\"quantum_teleportation\")",
   "id": "8f8fc5a6fa59003e",
   "outputs": [
    {
     "name": "stdout",
     "output_type": "stream",
     "text": [
      "number of inputs: 3, number of measurements: 15\n",
      "{<class 'not_teleported_registers_equal_to_plus_property.NotTeleportedPlus'>, <class 'input_reg0_equal_to_output_reg2_property.Inq0EqualOutq2'>, <class 'unitary_before_teleport_equal_unitary_after_teleport_property.UnitaryBeforeAndAfterTeleport'>}\n",
      "preflight steps 0.8461451530456543\n",
      "circuit execution time 0.0955190658569336\n",
      "measurement allocation time 0.03851175308227539\n",
      "p val calc time 0.02599954605102539\n",
      "{<class 'not_teleported_registers_equal_to_plus_property.NotTeleportedPlus'>, <class 'input_reg0_equal_to_output_reg2_property.Inq0EqualOutq2'>, <class 'unitary_before_teleport_equal_unitary_after_teleport_property.UnitaryBeforeAndAfterTeleport'>}\n",
      "preflight steps 0.7621281147003174\n",
      "circuit execution time 0.10851597785949707\n",
      "measurement allocation time 0.03899812698364258\n",
      "p val calc time 0.02852153778076172\n",
      "{<class 'not_teleported_registers_equal_to_plus_property.NotTeleportedPlus'>, <class 'input_reg0_equal_to_output_reg2_property.Inq0EqualOutq2'>, <class 'unitary_before_teleport_equal_unitary_after_teleport_property.UnitaryBeforeAndAfterTeleport'>}\n",
      "preflight steps 0.866173505783081\n",
      "circuit execution time 0.11004352569580078\n",
      "measurement allocation time 0.03651571273803711\n",
      "p val calc time 0.025995492935180664\n",
      "{<class 'not_teleported_registers_equal_to_plus_property.NotTeleportedPlus'>, <class 'input_reg0_equal_to_output_reg2_property.Inq0EqualOutq2'>, <class 'unitary_before_teleport_equal_unitary_after_teleport_property.UnitaryBeforeAndAfterTeleport'>}\n",
      "preflight steps 0.7569174766540527\n",
      "circuit execution time 0.1080772876739502\n",
      "measurement allocation time 0.038001060485839844\n",
      "p val calc time 0.02600550651550293\n",
      "{<class 'not_teleported_registers_equal_to_plus_property.NotTeleportedPlus'>, <class 'input_reg0_equal_to_output_reg2_property.Inq0EqualOutq2'>, <class 'unitary_before_teleport_equal_unitary_after_teleport_property.UnitaryBeforeAndAfterTeleport'>}\n",
      "preflight steps 0.7656774520874023\n",
      "circuit execution time 0.09751486778259277\n",
      "measurement allocation time 0.038512229919433594\n",
      "p val calc time 0.02899956703186035\n",
      "{<class 'not_teleported_registers_equal_to_plus_property.NotTeleportedPlus'>, <class 'input_reg0_equal_to_output_reg2_property.Inq0EqualOutq2'>, <class 'unitary_before_teleport_equal_unitary_after_teleport_property.UnitaryBeforeAndAfterTeleport'>}\n"
     ]
    },
    {
     "name": "stderr",
     "output_type": "stream",
     "text": [
      "\n",
      "KeyboardInterrupt\n",
      "\n"
     ]
    }
   ],
   "execution_count": 19
  },
  {
   "metadata": {
    "ExecuteTime": {
     "end_time": "2024-08-12T00:18:24.541219Z",
     "start_time": "2024-08-12T00:18:24.541219Z"
    }
   },
   "cell_type": "code",
   "source": "test_and_store(\"deutsch_jozsa\")",
   "id": "ec075a832c70f502",
   "outputs": [],
   "execution_count": null
  },
  {
   "metadata": {
    "ExecuteTime": {
     "end_time": "2024-08-11T23:42:05.424677Z",
     "start_time": "2024-08-11T23:41:49.714665Z"
    }
   },
   "cell_type": "code",
   "source": "test_and_store(\"grovers_algorithm\")",
   "id": "3c84d5b03efc3c98",
   "outputs": [
    {
     "name": "stdout",
     "output_type": "stream",
     "text": [
      "number of inputs: 3, number of measurements: 50\n",
      "{<class 'most_frequent_output_should_not_be_marked_when_too_many_marks.GroversAlgorithmMostFrequentNotMarkedIfTooManyMarked'>, <class 'most_frequent_should_be_marked.GroversAlgorithmMostFrequentMarked'>, <class 'grover_lower_register_minus_property.GroversAlgorithmLowerRegisterMinus'>}\n",
      "preflight steps 4.869844913482666\n",
      "circuit execution time 0.7443442344665527\n",
      "measurement allocation time 5.097204208374023\n",
      "p val calc time 0.0075130462646484375\n",
      "[['grovers_algorithm_m0'], 'Fail', 6, 'GroversAlgorithmLowerRegisterMinus & GroversAlgorithmLowerRegisterMinus & GroversAlgorithmLowerRegisterMinus & GroversAlgorithmMostFrequentMarked & GroversAlgorithmMostFrequentMarked & GroversAlgorithmMostFrequentMarked', 15]\n",
      "{<class 'most_frequent_output_should_not_be_marked_when_too_many_marks.GroversAlgorithmMostFrequentNotMarkedIfTooManyMarked'>, <class 'most_frequent_should_be_marked.GroversAlgorithmMostFrequentMarked'>, <class 'grover_lower_register_minus_property.GroversAlgorithmLowerRegisterMinus'>}\n"
     ]
    },
    {
     "name": "stderr",
     "output_type": "stream",
     "text": [
      "\n",
      "KeyboardInterrupt\n",
      "\n"
     ]
    }
   ],
   "execution_count": 6
  },
  {
   "metadata": {
    "ExecuteTime": {
     "end_time": "2024-08-11T23:42:05.425684Z",
     "start_time": "2024-08-11T23:42:05.425684Z"
    }
   },
   "cell_type": "code",
   "source": "test_and_store(\"quantum_fourier_transform\")",
   "id": "d16727113e796700",
   "outputs": [],
   "execution_count": null
  },
  {
   "metadata": {
    "ExecuteTime": {
     "end_time": "2024-08-11T23:42:05.426683Z",
     "start_time": "2024-08-11T23:42:05.426683Z"
    }
   },
   "cell_type": "code",
   "source": "test_and_store(\"quantum_phase_estimation\")",
   "id": "54a395f205d6ca22",
   "outputs": [],
   "execution_count": null
  },
  {
   "metadata": {},
   "cell_type": "code",
   "source": "",
   "id": "a2553fb551e7faf0",
   "outputs": [],
   "execution_count": null
  }
 ],
 "metadata": {
  "kernelspec": {
   "display_name": "Python 3",
   "language": "python",
   "name": "python3"
  },
  "language_info": {
   "codemirror_mode": {
    "name": "ipython",
    "version": 2
   },
   "file_extension": ".py",
   "mimetype": "text/x-python",
   "name": "python",
   "nbconvert_exporter": "python",
   "pygments_lexer": "ipython2",
   "version": "2.7.6"
  }
 },
 "nbformat": 4,
 "nbformat_minor": 5
}
