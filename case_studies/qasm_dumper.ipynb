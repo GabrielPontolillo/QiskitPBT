{
 "cells": [
  {
   "metadata": {},
   "cell_type": "markdown",
   "source": [
    "* Steps for quantitative analysis \n",
    "* run dump circuits to create a QS version of each mutant \n",
    "* Fix the QS mutants if there are any errors / namespace, filename and test file name/ syntax errors\n",
    "* Make a test file for the property\n",
    "* run the fg file to build and make the runner\n",
    "* run on this pc"
   ],
   "id": "11a6f5b5c1cfa99e"
  },
  {
   "cell_type": "code",
   "id": "initial_id",
   "metadata": {
    "collapsed": true
   },
   "source": [
    "from qiskit import qasm2\n",
    "import subprocess\n",
    "import importlib.util\n",
    "import sys\n",
    "import os\n",
    "\n",
    "PATH = os.path.abspath(\"\")\n",
    "\n",
    "subprocess.run([\"npm -g install q-convert\"], shell=True)\n",
    "\n",
    "def import_function(module_str, path, function_name):\n",
    "    spec = importlib.util.spec_from_file_location(module_str, path)\n",
    "    module = importlib.util.module_from_spec(spec)\n",
    "    sys.modules[module_str] = module\n",
    "    spec.loader.exec_module(module)\n",
    "    return getattr(module, function_name)\n"
   ],
   "outputs": [],
   "execution_count": null
  },
  {
   "metadata": {},
   "cell_type": "code",
   "source": [
    "def process_mutant(algorithm_name, mutant_suffix, index, *args):\n",
    "    mutant_name = f\"{algorithm_name}_{mutant_suffix}{index}\"\n",
    "    circuit_function = import_function(mutant_name, f\"{PATH}/{algorithm_name}/mutants/{mutant_name}.py\", algorithm_name)\n",
    "    circuit = circuit_function(*args) if args else circuit_function()\n",
    "        \n",
    "    filename = f\"{PATH}/{algorithm_name}/mutants/translated_circuits/{mutant_name}.qasm\"\n",
    "    \n",
    "    dir_path = os.path.dirname(filename)\n",
    "    if dir_path and not os.path.exists(dir_path):\n",
    "        os.makedirs(dir_path)\n",
    "    \n",
    "    qasm2.dump(circuit, filename)\n",
    "    \n",
    "    command = [\n",
    "        \"q-convert\", \"-i\", filename,\n",
    "        \"-s\", \"qasm\", \"-o\", f\"{PATH}\\\\{algorithm_name}\\\\mutants\\\\translated_circuits\\\\{mutant_name}.qs\",\n",
    "        \"-d\", \"qsharp\", \"-w\"\n",
    "    ]\n",
    "    \n",
    "    process = subprocess.run(command, shell=True, capture_output=True, text=True)\n",
    "    \n",
    "def dump_circuits(algorithm_name, *args):\n",
    "    for i in range(10):\n",
    "        process_mutant(algorithm_name, \"m\", i, *args)\n",
    "    \n",
    "    for i in range(5):\n",
    "        process_mutant(algorithm_name, \"em\", i, *args)"
   ],
   "id": "64075b04f6c68934",
   "outputs": [],
   "execution_count": null
  },
  {
   "metadata": {},
   "cell_type": "code",
   "source": "dump_circuits(\"quantum_teleportation\")",
   "id": "1436ed2ba06783ff",
   "outputs": [],
   "execution_count": null
  },
  {
   "metadata": {},
   "cell_type": "code",
   "source": "dump_circuits(\"quantum_fourier_transform\", 5)",
   "id": "90995bbe18dd1cf1",
   "outputs": [],
   "execution_count": null
  },
  {
   "metadata": {},
   "cell_type": "code",
   "source": "",
   "id": "d0525eaabc1fa033",
   "outputs": [],
   "execution_count": null
  }
 ],
 "metadata": {
  "kernelspec": {
   "display_name": "Python 3",
   "language": "python",
   "name": "python3"
  },
  "language_info": {
   "codemirror_mode": {
    "name": "ipython",
    "version": 2
   },
   "file_extension": ".py",
   "mimetype": "text/x-python",
   "name": "python",
   "nbconvert_exporter": "python",
   "pygments_lexer": "ipython2",
   "version": "2.7.6"
  }
 },
 "nbformat": 4,
 "nbformat_minor": 5
}
